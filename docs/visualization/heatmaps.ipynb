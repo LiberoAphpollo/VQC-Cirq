{
 "cells": [
  {
   "cell_type": "markdown",
   "metadata": {
    "id": "7bd5137ff0b2"
   },
   "source": [
    "##### Copyright 2021 The Cirq Developers"
   ]
  },
  {
   "cell_type": "code",
   "execution_count": null,
   "metadata": {
    "id": "60d1a836f542"
   },
   "outputs": [],
   "source": [
    "# Licensed under the Apache License, Version 2.0 (the \"License\");\n",
    "# you may not use this file except in compliance with the License.\n",
    "# You may obtain a copy of the License at\n",
    "#\n",
    "# https://www.apache.org/licenses/LICENSE-2.0\n",
    "#\n",
    "# Unless required by applicable law or agreed to in writing, software\n",
    "# distributed under the License is distributed on an \"AS IS\" BASIS,\n",
    "# WITHOUT WARRANTIES OR CONDITIONS OF ANY KIND, either express or implied.\n",
    "# See the License for the specific language governing permissions and\n",
    "# limitations under the License."
   ]
  },
  {
   "cell_type": "markdown",
   "metadata": {
    "id": "ef4235146aee"
   },
   "source": [
    "# Heatmaps\n",
    "Qubit heatmaps are useful to visualize various different types of metrics across qubits. Cirq currently supports single\n",
    "qubit heatmaps and two-qubit interaction heatmaps for GridQubits."
   ]
  },
  {
   "cell_type": "markdown",
   "metadata": {
    "id": "3fff35054005"
   },
   "source": [
    "<table class=\"tfo-notebook-buttons\" align=\"left\">\n",
    "  <td>\n",
    "    <a target=\"_blank\" href=\"https://quantumai.google/cirq/visualization/heatmaps>\"><img src=\"https://quantumai.google/site-assets/images/buttons/quantumai_logo_1x.png\" />View on QuantumAI</a>\n",
    "  </td>\n",
    "  <td>\n",
    "    <a target=\"_blank\" href=\"https://colab.research.google.com/github/quantumlib/Cirq/blob/master/docs/visualization/heatmaps.ipynb\"><img src=\"https://quantumai.google/site-assets/images/buttons/colab_logo_1x.png\" />Run in Google Colab</a>\n",
    "  </td>\n",
    "  <td>\n",
    "    <a target=\"_blank\" href=\"https://github.com/quantumlib/Cirq/blob/master/docs/visualization/heatmaps.ipynb\"><img src=\"https://quantumai.google/site-assets/images/buttons/github_logo_1x.png\" />View source on GitHub</a>\n",
    "  </td>\n",
    "  <td>\n",
    "    <a href=\"https://storage.googleapis.com/tensorflow_docs/Cirq/docs/visualization/heatmaps.ipynb\"><img src=\"https://quantumai.google/site-assets/images/buttons/download_icon_1x.png\" />Download notebook</a>\n",
    "  </td>\n",
    "</table>"
   ]
  },
  {
   "cell_type": "code",
   "execution_count": null,
   "metadata": {
    "id": "4e8bfd27ed02"
   },
   "outputs": [],
   "source": [
    "try:\n",
    "    import cirq\n",
    "except ImportError:\n",
    "    print(\"installing cirq...\")\n",
    "    !pip install --quiet cirq\n",
    "    print(\"installed cirq.\")\n",
    "    import cirq"
   ]
  },
  {
   "cell_type": "markdown",
   "metadata": {
    "id": "1507866cc51b"
   },
   "source": [
    "### Heatmaps for Custom Data\n",
    "You can directly create heatmaps using custom data mapping from a grid qubit tuple (single qubit or qubit pair) to a\n",
    "corresponding float value. Additional config parameters for the heatmap can be passed as `kwargs` to the constructor.\n",
    "For example:"
   ]
  },
  {
   "cell_type": "code",
   "execution_count": null,
   "metadata": {
    "id": "ad8ad19411ef"
   },
   "outputs": [],
   "source": [
    "cirq.Heatmap({\n",
    "    (cirq.GridQubit(0, 0),): 0.1,\n",
    "    (cirq.GridQubit(0, 1),): 0.2,\n",
    "    (cirq.GridQubit(0, 2),): 0.3,\n",
    "    (cirq.GridQubit(1, 0),): 0.4,\n",
    "}, plot_colorbar = False).plot()"
   ]
  },
  {
   "cell_type": "code",
   "execution_count": null,
   "metadata": {
    "id": "8e612f5d297f"
   },
   "outputs": [],
   "source": [
    "cirq.TwoQubitInteractionHeatmap({\n",
    "    (cirq.GridQubit(0, 0), cirq.GridQubit(0, 1)): 1.1,\n",
    "    (cirq.GridQubit(0, 1), cirq.GridQubit(0, 2)): 1.4,\n",
    "    (cirq.GridQubit(1, 0), cirq.GridQubit(0, 0)): 1.6,\n",
    "    (cirq.GridQubit(3, 3), cirq.GridQubit(3, 2)): 1.9,\n",
    "}, annotation_format=\"0.2f\", title = 'Dummy Two Qubit Manual Plot').plot()"
   ]
  }
 ],
 "metadata": {
  "colab": {
   "name": "heatmaps.ipynb",
   "toc_visible": true
  },
  "kernelspec": {
   "display_name": "Python 3",
   "name": "python3"
  }
 },
 "nbformat": 4,
 "nbformat_minor": 0
}
