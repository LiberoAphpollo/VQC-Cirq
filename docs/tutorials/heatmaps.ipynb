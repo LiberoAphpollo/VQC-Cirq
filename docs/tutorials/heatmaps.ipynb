{
 "cells": [
  {
   "cell_type": "markdown",
   "metadata": {
    "id": "7bd5137ff0b2"
   },
   "source": [
    "##### Copyright 2021 The Cirq Developers"
   ]
  },
  {
   "cell_type": "code",
   "execution_count": null,
   "metadata": {
    "id": "60d1a836f542"
   },
   "outputs": [],
   "source": [
    "# Licensed under the Apache License, Version 2.0 (the \"License\");\n",
    "# you may not use this file except in compliance with the License.\n",
    "# You may obtain a copy of the License at\n",
    "#\n",
    "# https://www.apache.org/licenses/LICENSE-2.0\n",
    "#\n",
    "# Unless required by applicable law or agreed to in writing, software\n",
    "# distributed under the License is distributed on an \"AS IS\" BASIS,\n",
    "# WITHOUT WARRANTIES OR CONDITIONS OF ANY KIND, either express or implied.\n",
    "# See the License for the specific language governing permissions and\n",
    "# limitations under the License."
   ]
  },
  {
   "cell_type": "markdown",
   "metadata": {
    "id": "ef4235146aee"
   },
   "source": [
    "# Heatmaps"
   ]
  },
  {
   "cell_type": "markdown",
   "metadata": {
    "id": "3fff35054005"
   },
   "source": [
    "<table class=\"tfo-notebook-buttons\" align=\"left\">\n",
    "  <td>\n",
    "    <a target=\"_blank\" href=\"https://quantumai.google/cirq/tutorials/heatmaps>\"><img src=\"https://quantumai.google/site-assets/images/buttons/quantumai_logo_1x.png\" />View on QuantumAI</a>\n",
    "  </td>\n",
    "  <td>\n",
    "    <a target=\"_blank\" href=\"https://colab.research.google.com/github/quantumlib/Cirq/blob/master/docs/tutorials/heatmaps.ipynb\"><img src=\"https://quantumai.google/site-assets/images/buttons/colab_logo_1x.png\" />Run in Google Colab</a>\n",
    "  </td>\n",
    "  <td>\n",
    "    <a target=\"_blank\" href=\"https://github.com/quantumlib/Cirq/blob/master/docs/tutorials/heatmaps.ipynb\"><img src=\"https://quantumai.google/site-assets/images/buttons/github_logo_1x.png\" />View source on GitHub</a>\n",
    "  </td>\n",
    "  <td>\n",
    "    <a href=\"https://storage.googleapis.com/tensorflow_docs/Cirq/docs/tutorials/heatmaps.ipynb\"><img src=\"https://quantumai.google/site-assets/images/buttons/download_icon_1x.png\" />Download notebook</a>\n",
    "  </td>\n",
    "</table>"
   ]
  },
  {
   "cell_type": "markdown",
   "metadata": {
    "id": "7d4b5cf32fd2"
   },
   "source": [
    "Qubit heatmaps are primarily used for [visualizing calibration metrics](./google/visualizing_calibration_metrics.ipynb) but can be used for any custom data. This tutorial shows how to create a `cirq.Heatmap` for single-qubit data and a `cirq.TwoQubitInteractionHeatmap` for two-qubit data."
   ]
  },
  {
   "cell_type": "code",
   "execution_count": null,
   "metadata": {
    "id": "4e8bfd27ed02"
   },
   "outputs": [],
   "source": [
    "try:\n",
    "    import cirq\n",
    "except ImportError:\n",
    "    print(\"installing cirq...\")\n",
    "    !pip install --quiet cirq\n",
    "    print(\"installed cirq.\")\n",
    "    import cirq"
   ]
  },
  {
   "cell_type": "markdown",
   "metadata": {
    "id": "1507866cc51b"
   },
   "source": [
    "## Single-qubit heatmaps"
   ]
  },
  {
   "cell_type": "markdown",
   "metadata": {
    "id": "ea9f5f13116a"
   },
   "source": [
    "You can directly create heatmaps using custom data mapping from a grid qubit tuple (single qubit or qubit pair) to a corresponding float value. \n",
    "\n",
    "A single-qubit heatmap example is shown below."
   ]
  },
  {
   "cell_type": "code",
   "execution_count": null,
   "metadata": {
    "id": "ad8ad19411ef"
   },
   "outputs": [],
   "source": [
    "cirq.Heatmap({\n",
    "    (cirq.GridQubit(0, 0),): 0.1,\n",
    "    (cirq.GridQubit(0, 1),): 0.2,\n",
    "    (cirq.GridQubit(0, 2),): 0.3,\n",
    "    (cirq.GridQubit(1, 0),): 0.4,\n",
    "}).plot();"
   ]
  },
  {
   "cell_type": "markdown",
   "metadata": {
    "id": "e56aa15ddc5a"
   },
   "source": [
    "Additional parameters for the heatmap can be passed as `kwargs` to the constructor, e.g. `plot_colorbar=False` to hide the colorbar. For full details, see the `cirq.Heatmap` reference page."
   ]
  },
  {
   "cell_type": "markdown",
   "metadata": {
    "id": "3ad16f5c35db"
   },
   "source": [
    "## Two-qubit heatmaps"
   ]
  },
  {
   "cell_type": "markdown",
   "metadata": {
    "id": "46980614cd3c"
   },
   "source": [
    "Two-qubit heatmaps can be made in an analogous manner using tuples of qubit pairs and corresponding (float) data values."
   ]
  },
  {
   "cell_type": "code",
   "execution_count": null,
   "metadata": {
    "id": "8e612f5d297f"
   },
   "outputs": [],
   "source": [
    "cirq.TwoQubitInteractionHeatmap({\n",
    "    (cirq.GridQubit(0, 0), cirq.GridQubit(0, 1)): 1.1,\n",
    "    (cirq.GridQubit(0, 1), cirq.GridQubit(0, 2)): 1.4,\n",
    "    (cirq.GridQubit(1, 0), cirq.GridQubit(0, 0)): 1.6,\n",
    "    (cirq.GridQubit(3, 3), cirq.GridQubit(3, 2)): 1.9,\n",
    "}, annotation_format=\"0.2f\", title='Example Two-Qubit Heatmap').plot();"
   ]
  },
  {
   "cell_type": "markdown",
   "metadata": {
    "id": "87d966c05772"
   },
   "source": [
    "These types of plots are used for [visualizing two-qubit calibration metrics](./google/visualizing_calibration_metrics.ipynb)."
   ]
  }
 ],
 "metadata": {
  "colab": {
   "name": "heatmaps.ipynb",
   "toc_visible": true
  },
  "kernelspec": {
   "display_name": "Python 3",
   "name": "python3"
  }
 },
 "nbformat": 4,
 "nbformat_minor": 0
}
